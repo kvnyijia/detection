{
 "cells": [
  {
   "cell_type": "markdown",
   "metadata": {},
   "source": [
    "## SpectralClustering Unsupervised Learning"
   ]
  },
  {
   "cell_type": "code",
   "execution_count": 1,
   "metadata": {},
   "outputs": [],
   "source": [
    "%reload_ext autoreload\n",
    "%autoreload 2\n",
    "\n",
    "from sklearn.model_selection import train_test_split\n",
    "from sklearn.mixture import GaussianMixture\n",
    "from sklearn import metrics\n",
    "from sklearn.feature_extraction.text import CountVectorizer\n",
    "import matplotlib.pyplot as plt # for data visualization\n",
    "import numpy as np\n",
    "from sklearn.cluster import SpectralClustering\n",
    "from sklearn.decomposition import PCA\n",
    "from sklearn.feature_extraction.text import TfidfVectorizer\n",
    "from sklearn.metrics import classification_report, confusion_matrix, accuracy_score\n",
    "from sklearn.cluster import AgglomerativeClustering\n",
    "from sklearn.cluster import AffinityPropagation\n",
    "\n",
    "from preprocessing2 import prepare_data"
   ]
  },
  {
   "cell_type": "markdown",
   "metadata": {},
   "source": [
    "## Load Data"
   ]
  },
  {
   "cell_type": "code",
   "execution_count": 2,
   "metadata": {},
   "outputs": [
    {
     "name": "stderr",
     "output_type": "stream",
     "text": [
      "[nltk_data] Downloading package punkt to\n",
      "[nltk_data]     C:\\Users\\hanca\\AppData\\Roaming\\nltk_data...\n",
      "[nltk_data]   Package punkt is already up-to-date!\n",
      "[nltk_data] Downloading package stopwords to\n",
      "[nltk_data]     C:\\Users\\hanca\\AppData\\Roaming\\nltk_data...\n",
      "[nltk_data]   Package stopwords is already up-to-date!\n"
     ]
    },
    {
     "data": {
      "text/html": [
       "<div>\n",
       "<style scoped>\n",
       "    .dataframe tbody tr th:only-of-type {\n",
       "        vertical-align: middle;\n",
       "    }\n",
       "\n",
       "    .dataframe tbody tr th {\n",
       "        vertical-align: top;\n",
       "    }\n",
       "\n",
       "    .dataframe thead th {\n",
       "        text-align: right;\n",
       "    }\n",
       "</style>\n",
       "<table border=\"1\" class=\"dataframe\">\n",
       "  <thead>\n",
       "    <tr style=\"text-align: right;\">\n",
       "      <th></th>\n",
       "      <th>category</th>\n",
       "      <th>rating</th>\n",
       "      <th>label</th>\n",
       "      <th>text</th>\n",
       "    </tr>\n",
       "  </thead>\n",
       "  <tbody>\n",
       "    <tr>\n",
       "      <th>1</th>\n",
       "      <td>1</td>\n",
       "      <td>5</td>\n",
       "      <td>CG</td>\n",
       "      <td>love exclam well made sturdi comfort i love ex...</td>\n",
       "    </tr>\n",
       "    <tr>\n",
       "      <th>2</th>\n",
       "      <td>1</td>\n",
       "      <td>5</td>\n",
       "      <td>CG</td>\n",
       "      <td>love great upgrad origin i quotat mine coupl year</td>\n",
       "    </tr>\n",
       "    <tr>\n",
       "      <th>3</th>\n",
       "      <td>1</td>\n",
       "      <td>5</td>\n",
       "      <td>CG</td>\n",
       "      <td>thi pillow save back i love look feel pillow</td>\n",
       "    </tr>\n",
       "    <tr>\n",
       "      <th>4</th>\n",
       "      <td>1</td>\n",
       "      <td>1</td>\n",
       "      <td>CG</td>\n",
       "      <td>miss inform use great product price exclam i</td>\n",
       "    </tr>\n",
       "    <tr>\n",
       "      <th>5</th>\n",
       "      <td>1</td>\n",
       "      <td>5</td>\n",
       "      <td>CG</td>\n",
       "      <td>veri nice set good qualiti we set two month</td>\n",
       "    </tr>\n",
       "  </tbody>\n",
       "</table>\n",
       "</div>"
      ],
      "text/plain": [
       "   category rating label                                               text\n",
       "1         1      5    CG  love exclam well made sturdi comfort i love ex...\n",
       "2         1      5    CG  love great upgrad origin i quotat mine coupl year\n",
       "3         1      5    CG       thi pillow save back i love look feel pillow\n",
       "4         1      1    CG       miss inform use great product price exclam i\n",
       "5         1      5    CG        veri nice set good qualiti we set two month"
      ]
     },
     "execution_count": 2,
     "metadata": {},
     "output_type": "execute_result"
    }
   ],
   "source": [
    "data = prepare_data()\n",
    "data.head()"
   ]
  },
  {
   "cell_type": "markdown",
   "metadata": {},
   "source": [
    "# Training"
   ]
  },
  {
   "cell_type": "code",
   "execution_count": 90,
   "metadata": {},
   "outputs": [
    {
     "name": "stdout",
     "output_type": "stream",
     "text": [
      "(5133, 6181)\n"
     ]
    },
    {
     "data": {
      "text/plain": [
       "array([[0, 0, 0, ..., 0, 0, 0],\n",
       "       [0, 0, 0, ..., 0, 0, 0],\n",
       "       [0, 0, 0, ..., 0, 0, 0],\n",
       "       ...,\n",
       "       [0, 0, 0, ..., 0, 0, 0],\n",
       "       [0, 0, 0, ..., 0, 0, 0],\n",
       "       [0, 0, 0, ..., 0, 0, 0]], dtype=int64)"
      ]
     },
     "execution_count": 90,
     "metadata": {},
     "output_type": "execute_result"
    }
   ],
   "source": [
    "# # Convert summary to a matrix of token counts\n",
    "\n",
    "\n",
    "cv = CountVectorizer(analyzer='word')\n",
    "x = cv.fit_transform(data['text'])\n",
    "\n",
    "print(x.shape)\n",
    "x.toarray()\n"
   ]
  },
  {
   "cell_type": "code",
   "execution_count": 3,
   "metadata": {},
   "outputs": [
    {
     "name": "stdout",
     "output_type": "stream",
     "text": [
      "(5133, 6181)\n"
     ]
    }
   ],
   "source": [
    "vectorizer = TfidfVectorizer()\n",
    "x = vectorizer.fit_transform(data['text'])\n",
    "print(x.shape)"
   ]
  },
  {
   "cell_type": "code",
   "execution_count": 92,
   "metadata": {},
   "outputs": [
    {
     "name": "stdout",
     "output_type": "stream",
     "text": [
      "(4619, 6181)\n",
      "(514, 6181)\n"
     ]
    }
   ],
   "source": [
    "x_train, x_test, y_train, y_test = train_test_split(x, data['category'], test_size=0.1)\n",
    "print(x_train.shape)\n",
    "print(x_test.shape)\n",
    "\n"
   ]
  },
  {
   "cell_type": "code",
   "execution_count": 93,
   "metadata": {},
   "outputs": [
    {
     "name": "stdout",
     "output_type": "stream",
     "text": [
      "(4619, 4619)\n"
     ]
    }
   ],
   "source": [
    "X = x_train.toarray()\n",
    "pca = PCA()\n",
    "pca.fit(X)\n",
    "transformed = pca.transform(X)\n",
    "print(transformed.shape)"
   ]
  },
  {
   "cell_type": "code",
   "execution_count": 94,
   "metadata": {},
   "outputs": [
    {
     "name": "stdout",
     "output_type": "stream",
     "text": [
      "(514, 4619)\n"
     ]
    }
   ],
   "source": [
    "X = x_test.toarray()\n",
    "# pca = PCA()\n",
    "# pca.fit(X)\n",
    "transformedTest = pca.transform(X)\n",
    "print(transformedTest.shape)"
   ]
  },
  {
   "cell_type": "code",
   "execution_count": 95,
   "metadata": {},
   "outputs": [
    {
     "name": "stderr",
     "output_type": "stream",
     "text": [
      "c:\\Users\\hanca\\anaconda3\\lib\\site-packages\\sklearn\\cluster\\_spectral.py:589: UserWarning: The spectral clustering API has changed. ``fit``now constructs an affinity matrix from data. To use a custom affinity matrix, set ``affinity=precomputed``.\n",
      "  warnings.warn(\n"
     ]
    }
   ],
   "source": [
    "\n",
    "# le = LabelEncoder()\n",
    "# le.fit(x_train)\n",
    "# re = le.transform(x_train)\n",
    "# re = re.reshape((re.shape[0], 1))\n",
    "# # print(re.shape)\n",
    "# la = LabelEncoder()\n",
    "# la.fit(x_test)\n",
    "# ra = la.transform(x_test)\n",
    "# ra = ra.reshape((ra.shape[0], 1))\n",
    "\n",
    "# print(X)\n",
    "# random_sample = np.random.choice(x, size=2000, replace =False)\n",
    "# X = pandas.get_dummies(random_sample)\n",
    "# print(random_sample.shape)\n",
    "# vectorizer = TfidfVectorizer()\n",
    "# x = vectorizer.fit_transform(x_train)\n",
    "# cv = CountVectorizer()\n",
    "# count_matrix = cv.fit_transform(x_train)\n",
    "# x = count_matrix\n",
    "# print(x.shape)\n",
    "# gmmModel = GaussianMixture(n_components=7,# this is the number of clusters\n",
    "#                          covariance_type='full', \n",
    "#                          max_iter=1000, # the number of EM iterations to perform. default=100\n",
    "#                          random_state=1, # for reproducibility\n",
    "#                          n_init=10, \n",
    "#                          init_params=\"kmeans\"\n",
    "#                         )\n",
    "\n",
    "# X = x_train.toarray()\n",
    "# pca = PCA()\n",
    "# # prepare transform on dataset\n",
    "# pca.fit(X)\n",
    "# # apply transform to dataset\n",
    "# transformed = pca.transform(X)\n",
    "# print(transformed.shape)\n",
    "# print(transformed.shape)\n",
    "clustering = SpectralClustering(n_clusters=2, assign_labels='discretize', random_state=0).fit(transformed)\n",
    "# clustering = AgglomerativeClustering().fit(transformed)\n",
    "# clustering = AffinityPropagation(random_state=5).fit(transformed)\n",
    "# clustering = DBSCAN(eps=1000, min_samples=150).fit(X)\n",
    "# print(X.shape)\n",
    "# print(X.shape)\n",
    "# Fit the model and predict labels\n",
    "# x = x.todense()\n",
    "# clust4 = gmmModel.fit(transformed)\n",
    "# clust4 = clust4.fit(X)\n",
    "# clust4 = clust4.fit(X)"
   ]
  },
  {
   "cell_type": "code",
   "execution_count": 96,
   "metadata": {},
   "outputs": [],
   "source": [
    "\n",
    "# vectorizer = TfidfVectorizer()\n",
    "# y = x_test.toarray()\n",
    "# print(y.shape)\n",
    "# X = x.toarray()\n",
    "# y = y.todense()\n",
    "# print(x.shape)\n",
    "# for x in xlist:\n",
    "\n",
    "x_pred = clustering.fit_predict(transformedTest)\n",
    "# x_pred = clust4.fit_predict(transformed)"
   ]
  },
  {
   "cell_type": "code",
   "execution_count": 97,
   "metadata": {},
   "outputs": [
    {
     "name": "stdout",
     "output_type": "stream",
     "text": [
      "Accuracy: 0.6595330739299611\n",
      "Classification Report:               precision    recall  f1-score   support\n",
      "\n",
      "           0       0.83      0.64      0.72       356\n",
      "           1       0.46      0.70      0.56       158\n",
      "\n",
      "    accuracy                           0.66       514\n",
      "   macro avg       0.65      0.67      0.64       514\n",
      "weighted avg       0.72      0.66      0.67       514\n",
      "\n",
      "Confusion Matrix: [[228 128]\n",
      " [ 47 111]]\n",
      "Accuracy Score: 0.6595330739299611\n",
      "F1: 0.5591939546599496\n"
     ]
    }
   ],
   "source": [
    "\n",
    "print(\"Accuracy:\",metrics.accuracy_score(x_pred, y_test))\n",
    "print('Classification Report:',classification_report(x_pred, y_test))\n",
    "print('Confusion Matrix:',confusion_matrix(x_pred, y_test))\n",
    "print('Accuracy Score:',accuracy_score(x_pred, y_test))\n",
    "print(\"F1:\",metrics.f1_score(x_pred, y_test))\n"
   ]
  }
 ],
 "metadata": {
  "kernelspec": {
   "display_name": "Python 3.9.12 ('base')",
   "language": "python",
   "name": "python3"
  },
  "language_info": {
   "codemirror_mode": {
    "name": "ipython",
    "version": 3
   },
   "file_extension": ".py",
   "mimetype": "text/x-python",
   "name": "python",
   "nbconvert_exporter": "python",
   "pygments_lexer": "ipython3",
   "version": "3.9.12"
  },
  "orig_nbformat": 4,
  "vscode": {
   "interpreter": {
    "hash": "004d8a1ad5ff1f0f120391ff70db495e6ce584417d6b58c7068eac16809e277e"
   }
  }
 },
 "nbformat": 4,
 "nbformat_minor": 2
}
